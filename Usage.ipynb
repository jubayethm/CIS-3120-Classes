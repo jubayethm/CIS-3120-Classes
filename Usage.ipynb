{
 "cells": [
  {
   "cell_type": "code",
   "execution_count": 1,
   "id": "6b88b4bc-a5c4-436d-9eed-8e95600f6d53",
   "metadata": {
    "editable": true,
    "slideshow": {
     "slide_type": ""
    },
    "tags": []
   },
   "outputs": [],
   "source": [
    "from Animal import Animal"
   ]
  },
  {
   "cell_type": "code",
   "execution_count": 2,
   "id": "738a52e3-faf1-4f92-8835-fed5b5e36dfe",
   "metadata": {
    "editable": true,
    "slideshow": {
     "slide_type": ""
    },
    "tags": []
   },
   "outputs": [
    {
     "name": "stdout",
     "output_type": "stream",
     "text": [
      "hello, I am Joe\n"
     ]
    }
   ],
   "source": [
    "x = Animal(\"Joe\")\n",
    "# x.talk()"
   ]
  },
  {
   "cell_type": "markdown",
   "id": "3aaa8ff6",
   "metadata": {},
   "source": []
  },
  {
   "cell_type": "code",
   "execution_count": 1,
   "id": "6b3637c1",
   "metadata": {},
   "outputs": [
    {
     "name": "stdout",
     "output_type": "stream",
     "text": [
      "hello, I am Buddy\n",
      "Buddy is eating carrots\n",
      "Buddy sleeps for 8 hours\n",
      "Buddy is playing with a ball\n",
      "Buddy is a wonderful animal!\n",
      "Buddy makes a bark sound\n"
     ]
    }
   ],
   "source": [
    "from Animal import Animal\n",
    "\n",
    "# Create an instance of Animal\n",
    "my_animal = Animal(\"Buddy\")\n",
    "\n",
    "# Call the new methods\n",
    "my_animal.eat(\"carrots\")\n",
    "my_animal.sleep(8)\n",
    "my_animal.play(\"ball\")\n",
    "my_animal.describe()\n",
    "my_animal.sound(\"bark\")\n"
   ]
  }
 ],
 "metadata": {
  "kernelspec": {
   "display_name": "Python 3",
   "language": "python",
   "name": "python3"
  },
  "language_info": {
   "codemirror_mode": {
    "name": "ipython",
    "version": 3
   },
   "file_extension": ".py",
   "mimetype": "text/x-python",
   "name": "python",
   "nbconvert_exporter": "python",
   "pygments_lexer": "ipython3",
   "version": "3.12.4"
  }
 },
 "nbformat": 4,
 "nbformat_minor": 5
}
